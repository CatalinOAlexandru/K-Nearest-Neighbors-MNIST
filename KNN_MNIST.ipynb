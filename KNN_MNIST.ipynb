{
  "nbformat": 4,
  "nbformat_minor": 0,
  "metadata": {
    "kernelspec": {
      "display_name": "Python 3",
      "language": "python",
      "name": "python3"
    },
    "language_info": {
      "codemirror_mode": {
        "name": "ipython",
        "version": 3
      },
      "file_extension": ".py",
      "mimetype": "text/x-python",
      "name": "python",
      "nbconvert_exporter": "python",
      "pygments_lexer": "ipython3",
      "version": "3.8.3"
    },
    "colab": {
      "name": "KNN-MNIST.ipynb",
      "provenance": [],
      "collapsed_sections": []
    }
  },
  "cells": [
    {
      "cell_type": "markdown",
      "metadata": {
        "id": "8BVRGtazfyvL"
      },
      "source": [
        "## Imports"
      ]
    },
    {
      "cell_type": "code",
      "metadata": {
        "id": "imQ7v-hRfyvM"
      },
      "source": [
        "import os\n",
        "import numpy as np\n",
        "import matplotlib.pyplot as plt\n",
        "%matplotlib inline\n",
        "RAND_ST = 42"
      ],
      "execution_count": null,
      "outputs": []
    },
    {
      "cell_type": "markdown",
      "metadata": {
        "id": "hLi7bHy2fyvN"
      },
      "source": [
        "## Dataset Loading Functions"
      ]
    },
    {
      "cell_type": "code",
      "metadata": {
        "id": "1vx73I6_fyvN"
      },
      "source": [
        "def load_mnist_dataset():\n",
        "    # HIDDEN \n",
        "    return X_train, X_val, Y_train, Y_val"
      ],
      "execution_count": null,
      "outputs": []
    },
    {
      "cell_type": "markdown",
      "metadata": {
        "id": "nJT4-SOnfyvO"
      },
      "source": [
        "Find the nearest neighbour (KNN with K=1) in the training set for all elements in the validation set and report the L2 loss between each paired element and the label accuracy. Display the nearest neighbour of the first 3 samples in the validation set as images."
      ]
    },
    {
      "cell_type": "code",
      "metadata": {
        "id": "V6KI3Hc7fyvP"
      },
      "source": [
        "def find_knn(X_train, Y_train, X_val, Y_val, K):\n",
        "    distances = np.sqrt(np.sum((np.expand_dims(X_train, axis=0)-np.expand_dims(X_val, axis=1))**2, axis=2))\n",
        "    # NN neighbours\n",
        "    nn_indices = np.argsort(distances, axis=1)[:,:K]\n",
        "\n",
        "    # L2 Distances\n",
        "    l2_distances = np.sum(np.sort(distances, axis=1)[:,:K]) / K\n",
        "\n",
        "    # Predicted Labels\n",
        "    labels = Y_train[nn_indices]\n",
        "    predicted_labels = np.zeros([len(X_val)])\n",
        "    for i in range(len(X_val)):\n",
        "        unique_value, counts = np.unique(labels[i], return_counts=True)\n",
        "        predicted_labels[i] = unique_value[np.argmax(counts)]\n",
        "        \n",
        "    # Accuracy\n",
        "    accuracy = np.sum(Y_val==predicted_labels) / Y_val.shape[0]\n",
        "    return X_train[nn_indices], Y_train[nn_indices], predicted_labels, l2_distances, accuracy"
      ],
      "execution_count": null,
      "outputs": []
    },
    {
      "cell_type": "code",
      "metadata": {
        "id": "BxTen8CBfyvQ"
      },
      "source": [
        "# Loadding the MNIST dataset\n",
        "X_train, X_val, Y_train, Y_val = load_mnist_dataset()"
      ],
      "execution_count": null,
      "outputs": []
    },
    {
      "cell_type": "code",
      "metadata": {
        "id": "AbtbQP4kfyvR",
        "outputId": "ee85253d-2eb4-49d6-db50-5b466abd0688"
      },
      "source": [
        "K = 1\n",
        "nn_neighbours, nn_labels, predicted_labels, l2_distances, accuracy = find_knn(X_train, Y_train, X_val, Y_val, K)\n",
        "print('Value of the L2 Distances: ', np.round(l2_distances, 2))\n",
        "print('Value of the accuracy', accuracy * 100, '%')"
      ],
      "execution_count": null,
      "outputs": [
        {
          "output_type": "stream",
          "text": [
            "Value of the L2 Distances:  68736.59\n",
            "Value of the accuracy 92.0 %\n"
          ],
          "name": "stdout"
        }
      ]
    },
    {
      "cell_type": "code",
      "metadata": {
        "id": "53CGvDzjfyvT",
        "outputId": "3ab8963e-3c29-4930-837a-e29aece559bc"
      },
      "source": [
        "n = int(np.sqrt(nn_neighbours.shape[2]))\n",
        "queries = np.reshape(X_val, [-1, K, n, n])\n",
        "nn_neighbours = np.reshape(nn_neighbours, [-1, K, n, n])\n",
        "fig, axes = plt.subplots(2, 3, figsize=(8,5))\n",
        "plt.rcParams['image.cmap'] = 'gray'\n",
        "for i in range(3):\n",
        "    axes[0,i].imshow(queries[i,0,:,:])\n",
        "    axes[0,i].axis('off')\n",
        "    axes[0,i].set_title(\"Query - Pred label = %d\"%int(predicted_labels[i]))\n",
        "    axes[1,i].imshow(nn_neighbours[i,0,:,:])\n",
        "    axes[1,i].axis('off')\n",
        "    axes[1,i].set_title(\"NN - label = %d\"%int(nn_labels[i,0]))"
      ],
      "execution_count": null,
      "outputs": [
        {
          "output_type": "display_data",
          "data": {
            "image/png": "[encoded data removed]",
            "text/plain": [
              "<Figure size 576x360 with 6 Axes>"
            ]
          },
          "metadata": {
            "tags": [],
            "needs_background": "light"
          }
        }
      ]
    },
    {
      "cell_type": "code",
      "metadata": {
        "id": "1-_2ao83fyvU",
        "outputId": "e15665a6-b2e2-4123-af80-123dd1807883"
      },
      "source": [
        "# Changing the value of K for hte KNN search\n",
        "Kmax = 100\n",
        "accuracy_array = np.zeros([Kmax])\n",
        "for K in range(1, Kmax+1):\n",
        "    _, _, _, _, accuracy = find_knn(X_train, Y_train, X_val, Y_val, K)\n",
        "    accuracy_array[K-1] = accuracy\n",
        "plt.plot(np.arange(1, Kmax+1), accuracy_array)\n",
        "plt.title('Accuracy as a function of K')\n",
        "plt.xlabel('K')\n",
        "plt.ylabel('Accuracy')"
      ],
      "execution_count": null,
      "outputs": [
        {
          "output_type": "execute_result",
          "data": {
            "text/plain": [
              "Text(0, 0.5, 'Accuracy')"
            ]
          },
          "metadata": {
            "tags": []
          },
          "execution_count": 7
        },
        {
          "output_type": "display_data",
          "data": {
            "image/png": "[encoded data removed]",
            "text/plain": [
              "<Figure size 432x288 with 1 Axes>"
            ]
          },
          "metadata": {
            "tags": [],
            "needs_background": "light"
          }
        }
      ]
    },
    {
      "cell_type": "markdown",
      "metadata": {
        "id": "MPMVIi9qfyvU"
      },
      "source": [
        "KNN is a method to predict the label of a sample by looking at the label of its nearest neighbours in the training set. We use a majority vote to decide the final label for that given sample. In the current experiment, we are getting a L2 loss of **XX** and an accuracy of **XX** for the validation set. We can see that the accuracy is quite high even though we are only comparing per pixel difference. We can notice that the accuracy will decrease with a higher K value as shown on the plot because it increases the noise coming from other classes."
      ]
    }
  ]
}